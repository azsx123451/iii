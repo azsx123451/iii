{
 "cells": [
  {
   "cell_type": "code",
   "execution_count": null,
   "metadata": {},
   "outputs": [],
   "source": [
    "import numpy as np \n",
    "import pandas as pd \n",
    "from sklearn.metrics.pairwise import cosine_similarity\n",
    "from __future__ import division\n",
    "import math, random\n",
    "from collections import defaultdict, Counter\n",
    "from numpy import dot"
   ]
  },
  {
   "cell_type": "code",
   "execution_count": null,
   "metadata": {},
   "outputs": [],
   "source": [
    "df = pd.read_csv(\"C:/redata.csv\")\n",
    "df"
   ]
  },
  {
   "cell_type": "code",
   "execution_count": null,
   "metadata": {},
   "outputs": [],
   "source": [
    "users_interests=df.iloc[:,1:6]\n",
    "users_interests"
   ]
  },
  {
   "cell_type": "code",
   "execution_count": null,
   "metadata": {},
   "outputs": [],
   "source": [
    "users_interests.dropna(axis = 0, how = 'any')"
   ]
  },
  {
   "cell_type": "code",
   "execution_count": null,
   "metadata": {},
   "outputs": [],
   "source": [
    "users_interests = np.array(users_interests)"
   ]
  },
  {
   "cell_type": "code",
   "execution_count": null,
   "metadata": {},
   "outputs": [],
   "source": [
    "users_interests = users_interests.tolist()"
   ]
  },
  {
   "cell_type": "code",
   "execution_count": null,
   "metadata": {},
   "outputs": [],
   "source": [
    "users_interests = tuple(users_interests)"
   ]
  },
  {
   "cell_type": "code",
   "execution_count": null,
   "metadata": {},
   "outputs": [],
   "source": [
    "type(users_interests)"
   ]
  },
  {
   "cell_type": "code",
   "execution_count": null,
   "metadata": {},
   "outputs": [],
   "source": [
    "users_interests = [i for inner in users_interests for i in inner]\n",
    "uni_ints = list(set(users_interests))\n",
    "uni_ints.sort(key = users_interests.index)\n",
    "uni_ints"
   ]
  },
  {
   "cell_type": "code",
   "execution_count": null,
   "metadata": {},
   "outputs": [],
   "source": [
    "def cosine_similarity(v, w):\n",
    "    return dot(v, w) / math.sqrt(dot(v, v) * dot(w, w))"
   ]
  },
  {
   "cell_type": "code",
   "execution_count": null,
   "metadata": {},
   "outputs": [],
   "source": [
    "def user_interest_vector(user_interests):\n",
    "    vectors = []\n",
    "    for uni_int in uni_ints:\n",
    "        if uni_int not in user_interests:\n",
    "            vectors.append(0)\n",
    "        else:\n",
    "            vectors.append(1)\n",
    "    return vectors"
   ]
  },
  {
   "cell_type": "code",
   "execution_count": null,
   "metadata": {},
   "outputs": [],
   "source": [
    "users_interests_matrix = [user_interest_vector(user_interests) for \n",
    "                            user_interests in users_interests]  "
   ]
  },
  {
   "cell_type": "code",
   "execution_count": null,
   "metadata": {},
   "outputs": [],
   "source": [
    "def users_similarity(users_interests_matrix):\n",
    "    users_similarity_matrix = []\n",
    "    for i,user in enumerate(users_interests_matrix):\n",
    "        similarity_vector = []\n",
    "        for j in range(len(users_interests_matrix)):\n",
    "            similarity_val=cosine_similarity(user, users_interests_matrix[j])\n",
    "            # print similarity_val\n",
    "\n",
    "            similarity_vector.append(similarity_val)\n",
    "        users_similarity_matrix.append(similarity_vector)\n",
    "\n",
    "    return users_similarity_matrix\n",
    "        \n",
    "sim_matrix = users_similarity(users_interests_matrix)\n",
    "\n"
   ]
  },
  {
   "cell_type": "code",
   "execution_count": null,
   "metadata": {},
   "outputs": [],
   "source": [
    "user_similarities = [[cosine_similarity(interest_vector_i, interest_vector_j)\n",
    "                      for interest_vector_j in users_interests_matrix]\n",
    "                     for interest_vector_i in users_interests_matrix]"
   ]
  },
  {
   "cell_type": "code",
   "execution_count": null,
   "metadata": {},
   "outputs": [],
   "source": [
    "https://juejin.im/post/5b1108bae51d4506c7666cac"
   ]
  },
  {
   "cell_type": "code",
   "execution_count": null,
   "metadata": {},
   "outputs": [],
   "source": [
    "http://ihong-blog.logdown.com/posts/411133"
   ]
  },
  {
   "cell_type": "code",
   "execution_count": null,
   "metadata": {},
   "outputs": [],
   "source": [
    "https://github.com/joelgrus/data-science-from-scratch/blob/master/code/recommender_systems.py#L5"
   ]
  },
  {
   "cell_type": "code",
   "execution_count": null,
   "metadata": {},
   "outputs": [],
   "source": []
  }
 ],
 "metadata": {
  "kernelspec": {
   "display_name": "Python 3",
   "language": "python",
   "name": "python3"
  },
  "language_info": {
   "codemirror_mode": {
    "name": "ipython",
    "version": 3
   },
   "file_extension": ".py",
   "mimetype": "text/x-python",
   "name": "python",
   "nbconvert_exporter": "python",
   "pygments_lexer": "ipython3",
   "version": "3.6.5"
  }
 },
 "nbformat": 4,
 "nbformat_minor": 2
}
